{
 "cells": [
  {
   "cell_type": "code",
   "execution_count": 84,
   "metadata": {},
   "outputs": [],
   "source": [
    "import pandas as pd\n",
    "import csv\n",
    "\n",
    "file_tipi_gov = \"tipi_gov.xlsx\"\n",
    "wb_tipi_gov = pd.ExcelFile(file_tipi_gov)\n",
    "\n",
    "df_tipi = wb_tipi_gov.parse(header=7)\n",
    "df_tipi.columns = ['ncm', 'excecao', 'desc', 'ipi']\n",
    "\n",
    "df_tipi = df_tipi.astype({'excecao':'str'})\n",
    "df_tipi[\"excecao\"] = df_tipi[\"excecao\"].str.zfill(2)\n",
    "\n",
    "\n",
    "for i, row in df_tipi.iterrows():\n",
    "    elements = str(row[\"ncm\"]).split(\".\")\n",
    "    if len(elements[0]) % 2 != 0:\n",
    "        elements[0] = \"0\" + elements[0]\n",
    "    df_tipi.at[i,\"ncm\"] = \"\".join(elements)\n",
    "\n",
    "    if row[\"excecao\"] == \"nan\":\n",
    "        df_tipi.at[i,\"excecao\"] = \"\"\n",
    "\n",
    "\n",
    "\n",
    "\n",
    "for i, row in df_tipi.iterrows():\n",
    "    ncm = row[\"ncm\"]\n",
    "    if len(ncm) != 8:\n",
    "        continue\n",
    "\n",
    "    concat_desc = \"\"\n",
    "    parts = [ncm[0:4],ncm[0:5],ncm[0:6],ncm[0:7],ncm[0:8]]\n",
    "    for part in parts:\n",
    "        result = df_tipi.query(f\"ncm =='{part}'\")\n",
    "        if not result.empty:\n",
    "            part_name = result[\"desc\"].iloc[0]\n",
    "            concat_desc = f\"{concat_desc} {part_name}\"\n",
    "    df_tipi.at[i, \"concat_desc\"] = concat_desc[1:-1]\n",
    "\n",
    "df = df_tipi.loc[df_tipi['ncm'].str.len() == 8]"
   ]
  },
  {
   "cell_type": "code",
   "execution_count": 85,
   "metadata": {},
   "outputs": [],
   "source": [
    "df.to_csv('out.csv', quoting=csv.QUOTE_ALL,index=False)"
   ]
  }
 ],
 "metadata": {
  "kernelspec": {
   "display_name": "Python 3",
   "language": "python",
   "name": "python3"
  },
  "language_info": {
   "codemirror_mode": {
    "name": "ipython",
    "version": 3
   },
   "file_extension": ".py",
   "mimetype": "text/x-python",
   "name": "python",
   "nbconvert_exporter": "python",
   "pygments_lexer": "ipython3",
   "version": "3.10.6"
  },
  "orig_nbformat": 4,
  "vscode": {
   "interpreter": {
    "hash": "916dbcbb3f70747c44a77c7bcd40155683ae19c65e1c03b4aa3499c5328201f1"
   }
  }
 },
 "nbformat": 4,
 "nbformat_minor": 2
}
